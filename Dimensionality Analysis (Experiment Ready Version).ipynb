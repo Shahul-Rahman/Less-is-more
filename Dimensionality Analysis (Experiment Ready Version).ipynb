{
 "cells": [
  {
   "cell_type": "markdown",
   "metadata": {},
   "source": [
    "# Less is More: Dimensionality Analysis of Pure Random Orthogonal Search Through the Lens of Degrees of Freedom\n",
    "***\n",
    "Accepted in: Arabian Journal for Science and Engineering, Springer Publication [SCI Indexed]. Link to paper:\n",
    "\n",
    "How to Cite:\n",
    "\n",
    "For Any suggestions or doubt mail to: shahulshan81@gmail.com Cite the paper, if you find it useful.\n",
    "\n",
    "For a intuitive and basic explanation of \"What is Optimization\" Watch this video: https://www.youtube.com/watch?v=Gu7si5T0z_w\n",
    "***\n",
    "In this paper we study how the notion of **Degrees of Freedom** influence the Pure Random Search (PRS) class of algorithms, with a special focus on the recently published Pure Random Orthogonal Search (PROS) algorithm. \n",
    "\n",
    "The general observation is, if we reduce the degrees of freedom we get better Optimization performance, and hence the title:\n",
    "<h3 align=\"center\">Less is More</h3> "
   ]
  },
  {
   "cell_type": "markdown",
   "metadata": {},
   "source": [
    "This is an experiment ready version of the algorithms discussed in the paper. For an user friendly version (heavily commented) of these algorithms see the file titled: **\"Dimensionality Analysis.ipynb\"**"
   ]
  },
  {
   "cell_type": "code",
   "execution_count": 1,
   "metadata": {},
   "outputs": [],
   "source": [
    "#header files\n",
    "import numpy as np\n",
    "import statistics\n",
    "import time"
   ]
  },
  {
   "cell_type": "markdown",
   "metadata": {},
   "source": [
    "# A 10D and 2D Benchmark Function for Sample"
   ]
  },
  {
   "cell_type": "markdown",
   "metadata": {},
   "source": [
    "**How To Run:** Run any one of the benchmark function first. And then run the required cells for the algorithm to be tried out.\n",
    "\n",
    "The code of the benchmark functions were taken from: https://github.com/nathanrooy/landscapes/blob/master/landscapes/single_objective.py"
   ]
  },
  {
   "cell_type": "code",
   "execution_count": 2,
   "metadata": {
    "code_folding": [
     0
    ]
   },
   "outputs": [],
   "source": [
    "def f(x): #F10 zakharov a 10 D function\n",
    "    a, b = 0, 0\n",
    "    for i, val in enumerate(x):\n",
    "        a += val**2\n",
    "        b += 0.5*i*val\n",
    "    return a + b**2 + b**4\n",
    "mrnge = [-5,10]   #The bound within which the global minima search is carried out in Zakharov\n",
    "optimum = 0       #Well known optimum of the Zakharov function\n",
    "D = 10            #Dimension of the objective function. "
   ]
  },
  {
   "cell_type": "code",
   "execution_count": null,
   "metadata": {
    "code_folding": []
   },
   "outputs": [],
   "source": [
    "def f(x): #F11 Ackley A 2D function.\n",
    "    x,y = x[0],x[1]\n",
    "    '''\n",
    "    Ackley Function\n",
    "    wikipedia: https://en.wikipedia.org/wiki/Ackley_function\n",
    "    global minium at f(x=0, y=0) = 0\n",
    "    bounds: -35<=x,y<=35\n",
    "    '''\n",
    "    return (-20 * np.exp(-0.02 * np.sqrt(0.5 * (x*x + y*y))) -\n",
    "            np.exp(0.5 * (np.cos(2.0*np.pi*x) + np.cos(2*np.pi*y))) + np.e + 20) #Ackley\n",
    "mrnge = [-35,35]\n",
    "optimum = 0       #Well known optimum of the Ackley function\n",
    "D = 2             #Dimension of the objective function. "
   ]
  },
  {
   "cell_type": "markdown",
   "metadata": {},
   "source": [
    "# PROS"
   ]
  },
  {
   "cell_type": "code",
   "execution_count": 3,
   "metadata": {},
   "outputs": [
    {
     "name": "stdout",
     "output_type": "stream",
     "text": [
      "Finished in 0.33 second(s)\n"
     ]
    }
   ],
   "source": [
    "#PROS\n",
    "start = time.perf_counter()\n",
    "minima_arr = []\n",
    "for run in range(30): #Run the Experiment for 30 runs with different initial locations\n",
    "    x = np.random.uniform(mrnge[0],mrnge[1], D)\n",
    "    curr_best_estimate = f(x)\n",
    "    for i in range (1000):\n",
    "        rand_dim = np.random.randint(D)\n",
    "        x_new = np.array(x)\n",
    "        x_new[rand_dim] = np.random.uniform(mrnge[0],mrnge[1])\n",
    "        if(f(x_new) < curr_best_estimate):\n",
    "            x = x_new\n",
    "            curr_best_estimate = f(x)\n",
    "    minima_arr.append(f(x))\n",
    "finish = time.perf_counter()\n",
    "print(f'Finished in {round(finish-start, 2)} second(s)') #prints the time taken for this cell to execute."
   ]
  },
  {
   "cell_type": "code",
   "execution_count": 4,
   "metadata": {},
   "outputs": [
    {
     "name": "stdout",
     "output_type": "stream",
     "text": [
      "15.793381758614652 134.21371621495 65.22788077296566 32.67272092092904\n"
     ]
    }
   ],
   "source": [
    "#Summary (Best, Worst, Mean, SD and SR) of 30 runs. Run this cell to get the result of PROS\n",
    "print(min(minima_arr), max(minima_arr),statistics.mean(minima_arr) ,statistics.stdev(minima_arr))"
   ]
  },
  {
   "cell_type": "markdown",
   "metadata": {},
   "source": [
    "# DDF-*d*"
   ]
  },
  {
   "cell_type": "code",
   "execution_count": 5,
   "metadata": {
    "code_folding": [],
    "scrolled": true
   },
   "outputs": [],
   "source": [
    "start = time.perf_counter()\n",
    "minima_arr = []\n",
    "for run in range(30):\n",
    "    iterations =1000\n",
    "    iteration=iterations//D\n",
    "    x = np.random.uniform(mrnge[0],mrnge[1], D)\n",
    "    curr_best_estimate = f(x)\n",
    "    for choice in range(D,0,-1):\n",
    "        for i in range (iteration):\n",
    "            randDims=np.random.choice(range(0, D), choice, replace=False).tolist()\n",
    "            x_new = np.array(x)  \n",
    "            for i in randDims:\n",
    "                x_new[i]=np.random.uniform(mrnge[0],mrnge[1])\n",
    "\n",
    "            if(f(x_new) < curr_best_estimate):\n",
    "                x = x_new\n",
    "                curr_best_estimate = f(x)\n",
    "    minima_arr.append(f(x))\n",
    "finish = time.perf_counter()\n",
    "print(f'Finished in {round(finish-start, 2)} second(s)') #prints the time taken for this cell to execute."
   ]
  },
  {
   "cell_type": "code",
   "execution_count": 6,
   "metadata": {
    "code_folding": []
   },
   "outputs": [
    {
     "name": "stdout",
     "output_type": "stream",
     "text": [
      "9.743070354502466 69.91027003939232 31.10051096975571 16.078010508260842\n"
     ]
    }
   ],
   "source": [
    "#Summary (Best, Worst, Mean, SD and SR) of 30 runs. Run this cell to get the result of DDF-d\n",
    "print(min(minima_arr), max(minima_arr),statistics.mean(minima_arr) ,statistics.stdev(minima_arr))"
   ]
  },
  {
   "cell_type": "markdown",
   "metadata": {},
   "source": [
    "# DPROS"
   ]
  },
  {
   "cell_type": "code",
   "execution_count": 12,
   "metadata": {
    "code_folding": []
   },
   "outputs": [
    {
     "name": "stdout",
     "output_type": "stream",
     "text": [
      "26.51904439417031\n"
     ]
    }
   ],
   "source": [
    "start = time.perf_counter()\n",
    "minima_arr = []\n",
    "for run in range(30):\n",
    "    iteration=[900,100] #This split is for 1000 iterations. If you choose to change the number of iterations, this array should be updated accordingly\n",
    "    x = np.random.uniform(mrnge[0],mrnge[1], D)\n",
    "    for choice in range(2,0,-1):\n",
    "        for _ in range (iteration[choice-1]):\n",
    "            randDims=np.random.choice(range(0, D), choice, replace=False).tolist()\n",
    "            x_new = np.array(x)  \n",
    "            for i in randDims:\n",
    "                x_new[i]=np.random.uniform(mrnge[0],mrnge[1])\n",
    "\n",
    "            if(f(x_new) < f(x)):\n",
    "                x = x_new\n",
    "    minima_arr.append(f(x))\n",
    "finish = time.perf_counter()\n",
    "print(f'Finished in {round(finish-start, 2)} second(s)') #prints the time taken for this cell to execute."
   ]
  },
  {
   "cell_type": "code",
   "execution_count": null,
   "metadata": {},
   "outputs": [],
   "source": [
    "#Summary (Best, Worst, Mean, SD and SR) of 30 runs. Run this cell to get the result of DPROS\n",
    "print(min(minima_arr), max(minima_arr),statistics.mean(minima_arr) ,statistics.stdev(minima_arr))"
   ]
  }
 ],
 "metadata": {
  "kernelspec": {
   "display_name": "Python 3",
   "language": "python",
   "name": "python3"
  },
  "language_info": {
   "codemirror_mode": {
    "name": "ipython",
    "version": 3
   },
   "file_extension": ".py",
   "mimetype": "text/x-python",
   "name": "python",
   "nbconvert_exporter": "python",
   "pygments_lexer": "ipython3",
   "version": "3.7.3"
  }
 },
 "nbformat": 4,
 "nbformat_minor": 4
}
